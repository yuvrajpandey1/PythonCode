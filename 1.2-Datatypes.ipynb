{
 "cells": [
  {
   "cell_type": "markdown",
   "id": "4e0d4963",
   "metadata": {},
   "source": [
    "* Data types are a classification of data which tell the complier or interpreter how the programmer intends to use the data.\n",
    "* They determine the type of operations that can be performed on the data, the values that the data can take, and the amount of memory needed to store the data."
   ]
  },
  {
   "cell_type": "markdown",
   "id": "8236e12b",
   "metadata": {},
   "source": [
    "Importance of Data Type in Programming :\n",
    "* Data types ensure that data us stored in an efficient way.\n",
    "* They help in performing correct operations on data.\n",
    "* Proper use of data types can prevent errors and bugs in the program."
   ]
  },
  {
   "cell_type": "markdown",
   "id": "68e2d0c9",
   "metadata": {},
   "source": [
    "1. Basic Data Types\n",
    "* Integers\n",
    "* Float-point numbers\n",
    "* Strings\n",
    "* Booleans\n",
    "\n",
    "2. Advanced Data Types\n",
    "* Lists\n",
    "* Tuples\n",
    "* Sets\n",
    "* Dictionaries"
   ]
  },
  {
   "cell_type": "code",
   "execution_count": 1,
   "id": "12725665",
   "metadata": {},
   "outputs": [
    {
     "data": {
      "text/plain": [
       "int"
      ]
     },
     "execution_count": 1,
     "metadata": {},
     "output_type": "execute_result"
    }
   ],
   "source": [
    "## Intergers example\n",
    "age = 35\n",
    "type(age)"
   ]
  },
  {
   "cell_type": "code",
   "execution_count": 2,
   "id": "3d09dee1",
   "metadata": {},
   "outputs": [
    {
     "name": "stdout",
     "output_type": "stream",
     "text": [
      "5.11\n",
      "<class 'float'>\n"
     ]
    }
   ],
   "source": [
    "## floating point data types\n",
    "height = 5.11\n",
    "print(height)\n",
    "print(type(height))"
   ]
  },
  {
   "cell_type": "code",
   "execution_count": 3,
   "id": "bacf10dc",
   "metadata": {},
   "outputs": [
    {
     "name": "stdout",
     "output_type": "stream",
     "text": [
      "Yuvraj\n",
      "<class 'str'>\n"
     ]
    }
   ],
   "source": [
    "## string data type xample\n",
    "name = 'Yuvraj'\n",
    "print(name)\n",
    "print(type(name))"
   ]
  },
  {
   "cell_type": "code",
   "execution_count": null,
   "id": "49938cd7",
   "metadata": {},
   "outputs": [
    {
     "name": "stdout",
     "output_type": "stream",
     "text": [
      "<class 'bool'>\n"
     ]
    }
   ],
   "source": [
    "# bool data type example\n",
    "is_true = True\n",
    "print(type(is_true))"
   ]
  },
  {
   "cell_type": "code",
   "execution_count": 6,
   "id": "cf44b9d0",
   "metadata": {},
   "outputs": [
    {
     "data": {
      "text/plain": [
       "bool"
      ]
     },
     "execution_count": 6,
     "metadata": {},
     "output_type": "execute_result"
    }
   ],
   "source": [
    "a=10\n",
    "b=10\n",
    "type(a==b)"
   ]
  },
  {
   "cell_type": "code",
   "execution_count": null,
   "id": "0f6e22ab",
   "metadata": {},
   "outputs": [],
   "source": []
  }
 ],
 "metadata": {
  "kernelspec": {
   "display_name": "Python 3",
   "language": "python",
   "name": "python3"
  },
  "language_info": {
   "codemirror_mode": {
    "name": "ipython",
    "version": 3
   },
   "file_extension": ".py",
   "mimetype": "text/x-python",
   "name": "python",
   "nbconvert_exporter": "python",
   "pygments_lexer": "ipython3",
   "version": "3.14.0"
  }
 },
 "nbformat": 4,
 "nbformat_minor": 5
}
