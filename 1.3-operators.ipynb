{
 "cells": [
  {
   "cell_type": "markdown",
   "id": "af9f41b2",
   "metadata": {},
   "source": [
    "1. Arithmetic Operators\n",
    "* Addition\n",
    "* Subtraction\n",
    "* Multiplication\n",
    "* Division\n",
    "* Floor Division\n",
    "* Modulus\n",
    "* Exponentiation"
   ]
  },
  {
   "cell_type": "markdown",
   "id": "4e52dc2b",
   "metadata": {},
   "source": [
    "2. Comparison Operators\n",
    "* Equal to\n",
    "* Not equal to \n",
    "* Greater than\n",
    "* Less than\n",
    "* Greater than or equal to\n",
    "* Less than or equal to "
   ]
  },
  {
   "cell_type": "markdown",
   "id": "768b6588",
   "metadata": {},
   "source": [
    "3. Logical Operators\n",
    "* AND\n",
    "* OR\n",
    "* NOT"
   ]
  },
  {
   "cell_type": "code",
   "execution_count": 2,
   "id": "4bda2a69",
   "metadata": {},
   "outputs": [
    {
     "name": "stdout",
     "output_type": "stream",
     "text": [
      "15\n",
      "5\n",
      "50\n",
      "2.0\n",
      "2\n",
      "0\n",
      "100000\n"
     ]
    }
   ],
   "source": [
    "## Arithmetic operators\n",
    "a =10\n",
    "b=5\n",
    "add_result=a+b\n",
    "sub_result=a-b\n",
    "mult_result=a*b\n",
    "div_result=a/b\n",
    "floor_div_result=a//b\n",
    "modulus_result = a%b\n",
    "exponential_result=a**b\n",
    "\n",
    "print(add_result)\n",
    "print(sub_result)\n",
    "print(mult_result)\n",
    "print(div_result)\n",
    "print(floor_div_result)\n",
    "print(modulus_result)\n",
    "print(exponential_result)\n"
   ]
  },
  {
   "cell_type": "code",
   "execution_count": 4,
   "id": "e43192d0",
   "metadata": {},
   "outputs": [
    {
     "name": "stdout",
     "output_type": "stream",
     "text": [
      "True\n"
     ]
    }
   ],
   "source": [
    "## Comparision operators\n",
    "a=10\n",
    "b=10\n",
    "result = (a==b)\n",
    "print(result)"
   ]
  },
  {
   "cell_type": "code",
   "execution_count": 5,
   "id": "68d4ee63",
   "metadata": {},
   "outputs": [
    {
     "name": "stdout",
     "output_type": "stream",
     "text": [
      "Addition:  16.0\n",
      "Subtraction:  8.0\n",
      "Multiplication:  48.0\n",
      "Division:  3.0\n",
      "Floor Division:  3.0\n",
      "Modulus:  0.0\n",
      "Exponentiation:  20736.0\n"
     ]
    }
   ],
   "source": [
    "# Simple Calculator\n",
    "\n",
    "num1 = float(input(\"Enter first number:-\"))\n",
    "num2 = float(input(\"Enter second number:-\"))\n",
    "\n",
    "# performing arithmetic operations\n",
    "addition = num1 + num2\n",
    "subtraction = num1 - num2\n",
    "multiplication = num1*num2\n",
    "division = num1 / num2\n",
    "floor_division = num1 // num2\n",
    "modulus = num1 % num2\n",
    "exponentiation = num1 ** num2\n",
    "\n",
    "\n",
    "# Displaying results\n",
    "print(\"Addition: \", addition)\n",
    "print(\"Subtraction: \", subtraction)\n",
    "print(\"Multiplication: \", multiplication)\n",
    "print(\"Division: \", division)\n",
    "print(\"Floor Division: \", floor_division)\n",
    "print(\"Modulus: \", modulus)\n",
    "print(\"Exponentiation: \", exponentiation)"
   ]
  },
  {
   "cell_type": "code",
   "execution_count": null,
   "id": "cafb5ec2",
   "metadata": {},
   "outputs": [],
   "source": []
  }
 ],
 "metadata": {
  "kernelspec": {
   "display_name": "Python 3",
   "language": "python",
   "name": "python3"
  },
  "language_info": {
   "codemirror_mode": {
    "name": "ipython",
    "version": 3
   },
   "file_extension": ".py",
   "mimetype": "text/x-python",
   "name": "python",
   "nbconvert_exporter": "python",
   "pygments_lexer": "ipython3",
   "version": "3.14.0"
  }
 },
 "nbformat": 4,
 "nbformat_minor": 5
}
