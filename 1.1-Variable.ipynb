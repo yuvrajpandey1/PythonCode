{
 "cells": [
  {
   "cell_type": "markdown",
   "id": "e7be4aa9",
   "metadata": {},
   "source": [
    "Variables are fundamental elements in programming used to store data that can be referenced and manipulated in a program. In Python, variables are created when you can assign a value to them, and they do not need explicit declaration to reserve memory space. The declaration happens automatically when you assign a value to a variable."
   ]
  },
  {
   "cell_type": "code",
   "execution_count": 1,
   "id": "0d435821",
   "metadata": {},
   "outputs": [
    {
     "name": "stdout",
     "output_type": "stream",
     "text": [
      "age : 32\n",
      "Height : 6.1\n",
      "Name : Yuvraj\n"
     ]
    }
   ],
   "source": [
    "## Declaration of variable \n",
    "\n",
    "age = 32\n",
    "height =6.1\n",
    "name=\"Yuvraj\"\n",
    "is_student = True\n",
    "\n",
    "print(\"age :\",age)\n",
    "print(\"Height :\", height)\n",
    "print(\"Name :\",name)\n"
   ]
  },
  {
   "cell_type": "markdown",
   "id": "41acb9bd",
   "metadata": {},
   "source": [
    "Naming Conventions\n",
    "\n",
    "1. Variable names should be descriptive\n",
    "2. They must start with letter or an '_' and contains letter, numbers and inderscores\n",
    "3. Variables names are case sensitive"
   ]
  },
  {
   "cell_type": "code",
   "execution_count": 2,
   "id": "25c8fb16",
   "metadata": {},
   "outputs": [],
   "source": [
    "## case sentivitiy \n",
    "\n",
    "name = \"Yuvraj\"\n",
    "Name = \"Pandey\""
   ]
  },
  {
   "cell_type": "markdown",
   "id": "a07d0424",
   "metadata": {},
   "source": [
    "Python is dynamically typed, type of variable is determined at runtime.\n",
    "Python allows the type of a variable to change as the program executes."
   ]
  },
  {
   "cell_type": "code",
   "execution_count": 3,
   "id": "3dc0e556",
   "metadata": {},
   "outputs": [
    {
     "name": "stdout",
     "output_type": "stream",
     "text": [
      "10 <class 'int'>\n",
      "Hello <class 'str'>\n",
      "3.14 <class 'float'>\n"
     ]
    }
   ],
   "source": [
    "var = 10\n",
    "print(var,type(var))\n",
    "\n",
    "var = \"Hello\"\n",
    "print(var,type(var))\n",
    "\n",
    "var = 3.14\n",
    "print(var,type(var))"
   ]
  },
  {
   "cell_type": "code",
   "execution_count": 4,
   "id": "26665792",
   "metadata": {},
   "outputs": [
    {
     "name": "stdout",
     "output_type": "stream",
     "text": [
      "Sum:  58.43\n",
      "Difference:  -33.309999999999995\n",
      "Product:  576.1272\n",
      "Quotient:  0.27381730978853286\n"
     ]
    }
   ],
   "source": [
    "## Simple Calculator\n",
    "\n",
    "num1 = float(input(\"Enter first number: \"))\n",
    "num2 = float(input(\"Enter second number: \"))\n",
    "\n",
    "sum = num1 + num2\n",
    "difference = num1 -num2\n",
    "product = num1 * num2\n",
    "quotient = num1 / num2\n",
    "\n",
    "print(\"Sum: \",sum)\n",
    "print(\"Difference: \", difference)\n",
    "print(\"Product: \", product)\n",
    "print(\"Quotient: \", quotient)"
   ]
  },
  {
   "cell_type": "code",
   "execution_count": null,
   "id": "0d38dcc5",
   "metadata": {},
   "outputs": [],
   "source": []
  }
 ],
 "metadata": {
  "kernelspec": {
   "display_name": "Python 3",
   "language": "python",
   "name": "python3"
  },
  "language_info": {
   "codemirror_mode": {
    "name": "ipython",
    "version": 3
   },
   "file_extension": ".py",
   "mimetype": "text/x-python",
   "name": "python",
   "nbconvert_exporter": "python",
   "pygments_lexer": "ipython3",
   "version": "3.14.0"
  }
 },
 "nbformat": 4,
 "nbformat_minor": 5
}
